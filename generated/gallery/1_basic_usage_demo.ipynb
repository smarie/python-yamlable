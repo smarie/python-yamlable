{
  "cells": [
    {
      "cell_type": "code",
      "execution_count": null,
      "metadata": {
        "collapsed": false
      },
      "outputs": [],
      "source": [
        "%matplotlib inline"
      ]
    },
    {
      "cell_type": "markdown",
      "metadata": {},
      "source": [
        "\nYaml-able classes\n=================\n\nLet's make a class yaml-aware so that instances can be loaded from YAML and dumped to\nYAML.\n\n1. Basics\n---------\n\nTo make a class yaml-able, we have to\n\n - inherit from `YamlAble`\n - decorate it with the `@yaml_info` annotation to declare the associated yaml tag\n"
      ]
    },
    {
      "cell_type": "code",
      "execution_count": null,
      "metadata": {
        "collapsed": false
      },
      "outputs": [],
      "source": [
        "from yamlable import yaml_info, YamlAble\n\n@yaml_info(yaml_tag_ns='com.yamlable.example')\nclass Foo(YamlAble):\n\n    def __init__(self, a, b=\"hey\"):\n        \"\"\" Constructor \"\"\"\n        self.a = a\n        self.b = b\n\n    def __repr__(self):\n        \"\"\" String representation for prints \"\"\"\n        return f\"{type(self).__name__} - {dict(a=self.a, b=self.b)}\""
      ]
    },
    {
      "cell_type": "markdown",
      "metadata": {},
      "source": [
        "That's it! Let's check that our class is correct and allows us to create instances:\n\n"
      ]
    },
    {
      "cell_type": "code",
      "execution_count": null,
      "metadata": {
        "collapsed": false
      },
      "outputs": [],
      "source": [
        "f = Foo(1, 'hello')\nf"
      ]
    },
    {
      "cell_type": "markdown",
      "metadata": {},
      "source": [
        "Now let's dump it to a YAML document using `pyyaml`:\n\n"
      ]
    },
    {
      "cell_type": "code",
      "execution_count": null,
      "metadata": {
        "collapsed": false
      },
      "outputs": [],
      "source": [
        "import yaml\n\nprint(yaml.dump(f))"
      ]
    },
    {
      "cell_type": "markdown",
      "metadata": {},
      "source": [
        "we can also load an instance from a document:\n\n"
      ]
    },
    {
      "cell_type": "code",
      "execution_count": null,
      "metadata": {
        "collapsed": false
      },
      "outputs": [],
      "source": [
        "f2 = yaml.safe_load(\"\"\"\n!yamlable/com.yamlable.example.Foo\na: 0\nb: hey\n\"\"\")\nprint(f2)"
      ]
    },
    {
      "cell_type": "markdown",
      "metadata": {},
      "source": [
        "For more general cases where your object is embedded in a more complex structure for example, it will work as expected:\n\n"
      ]
    },
    {
      "cell_type": "code",
      "execution_count": null,
      "metadata": {
        "collapsed": false
      },
      "outputs": [],
      "source": [
        "d = {'foo': f, 'foo2': 12}\nprint(yaml.dump(d))"
      ]
    },
    {
      "cell_type": "markdown",
      "metadata": {},
      "source": [
        "In addition, the object directly offers the `dump_yaml` (dumping to file) / `dumps_yaml` (dumping to string)\nconvenience methods, and the class directly offers the `load_yaml` (load from file) / `loads_yaml` (load from string)\nconvenience methods.\n\nSee [PyYaml documentation](http://pyyaml.org/wiki/PyYAMLDocumentation) for the various formatting arguments that you\ncan use, they are the same than in the `yaml.dump` method. For example:\n\n"
      ]
    },
    {
      "cell_type": "code",
      "execution_count": null,
      "metadata": {
        "collapsed": false
      },
      "outputs": [],
      "source": [
        "print(f.dumps_yaml(default_flow_style=False))"
      ]
    },
    {
      "cell_type": "markdown",
      "metadata": {},
      "source": [
        "2. Customization\n----------------\n\n### a. dumper/loader\n\nAs could be seen above, `YamlAble` comes with a default implementation of the yaml formatting and parsing\nassociated with the classes. This is controlled by two methods that you may wish to override:\n\n - `__to_yaml_dict__` is an instance method that controls what to dump. By default it returns `vars(self)`\n - `__from_yaml_dict__` is a class method that controls the loading process. By default it returns `cls(**dct)`.\n\nYou may wish to override one, or both of these methods.\nFor example if you do not wish to dump all of the object attributes:\n\n"
      ]
    },
    {
      "cell_type": "code",
      "execution_count": null,
      "metadata": {
        "collapsed": false
      },
      "outputs": [],
      "source": [
        "@yaml_info(yaml_tag_ns='com.yamlable.example')\nclass CustomFoo(YamlAble):\n\n    def __init__(self, a, b):\n        \"\"\" Constructor \"\"\"\n        self.a = a\n        self.b = b\n        self.irrelevant = 37\n\n    def __repr__(self):\n        \"\"\" String representation for prints \"\"\"\n        return f\"{type(self).__name__} - {dict(a=self.a, b=self.b, irrelevant=self.irrelevant)}\"\n\n    def __to_yaml_dict__(self):\n        # Do not dump 'irrelevant'\n        return {'a': self.a, 'b': self.b}\n\n    @classmethod\n    def __from_yaml_dict__(cls, dct, yaml_tag):\n        # Accept a default value for b\n        return cls(dct['a'], dct.get('b', \"default\"))"
      ]
    },
    {
      "cell_type": "markdown",
      "metadata": {},
      "source": [
        "Let's test it: loading...\n\n"
      ]
    },
    {
      "cell_type": "code",
      "execution_count": null,
      "metadata": {
        "collapsed": false
      },
      "outputs": [],
      "source": [
        "f3 = yaml.safe_load(\"\"\"\n!yamlable/com.yamlable.example.CustomFoo\na: 0\n\"\"\")\nprint(f3)"
      ]
    },
    {
      "cell_type": "markdown",
      "metadata": {},
      "source": [
        "...and dumping again\n\n"
      ]
    },
    {
      "cell_type": "code",
      "execution_count": null,
      "metadata": {
        "collapsed": false
      },
      "outputs": [],
      "source": [
        "print(f3.dumps_yaml())"
      ]
    },
    {
      "cell_type": "markdown",
      "metadata": {},
      "source": [
        "### b. YAML tag\n\nYou probably noticed in the above examples that the dumped YAML document contains a tag such as\n`!yamlable/com.yamlable.example.CustomFoo`.\n\nWhen you dump a `YamlAble` object `o` to yaml, the corresponding tag is `f!yamlable/{o.__yaml_tag_suffix__}`.\nNote that you can override the class attribute, or even the instance attribute:\n\n"
      ]
    },
    {
      "cell_type": "code",
      "execution_count": null,
      "metadata": {
        "collapsed": false
      },
      "outputs": [],
      "source": [
        "f3.__yaml_tag_suffix__ = \"wow_you_changed_me\"\nprint(f3.dumps_yaml())"
      ]
    },
    {
      "cell_type": "markdown",
      "metadata": {},
      "source": [
        "The `@yaml_info` decorator is just a convenient way to fill the `__yaml_tag_suffix__` attribute on a class, nothing\nmore.\nYou can either provide a full yaml tag suffix:\n\n"
      ]
    },
    {
      "cell_type": "code",
      "execution_count": null,
      "metadata": {
        "collapsed": false
      },
      "outputs": [],
      "source": [
        "@yaml_info(\"com.example.WowObject\")\nclass MyFoo(YamlAble):\n    pass\n\nprint(MyFoo.__yaml_tag_suffix__)\nprint(MyFoo().dumps_yaml())"
      ]
    },
    {
      "cell_type": "markdown",
      "metadata": {},
      "source": [
        "Notice that this is great for retrocompatiblity: you can change your class name or module without changing the\nYAML serialization.\n\nOtherwise you can simply provide a namespace, that will be appended with `.{cls.__name__}`:\n\n"
      ]
    },
    {
      "cell_type": "code",
      "execution_count": null,
      "metadata": {
        "collapsed": false
      },
      "outputs": [],
      "source": [
        "@yaml_info(yaml_tag_ns=\"com.example\")\nclass MyFoo(YamlAble):\n    pass\n\nprint(MyFoo.__yaml_tag_suffix__)\nprint(MyFoo().dumps_yaml())"
      ]
    },
    {
      "cell_type": "markdown",
      "metadata": {},
      "source": [
        "In that case, you'll have to be sure that your class name does not change over time.\nIf you do not like the `!yamlable` prefix, you should use the\n[alternate `YamlObject2` class](#3-alternate-way-yamlobject2) - in that case the decorator should not be used.\n\n3. Alternate way: `YamlObject2`\n-------------------------------\nIf you absolutely wish to use PyYaml's `YamlObject` for some reason, you can use `YamlObject2` as an alternative to\n`YamlAble`. But it comes with the metaclass, like `YamlObject`.\n\nNevertheless, the way to work is very similar: simply override the optional methods. However you must specify the\n**entire** yaml tag directly using the `yaml_tag` class variable. The `@yaml_info` decorator\ncan not be used with classes subclassing `YamlObject2`.\n\n"
      ]
    },
    {
      "cell_type": "code",
      "execution_count": null,
      "metadata": {
        "collapsed": false
      },
      "outputs": [],
      "source": [
        "from yamlable import YamlObject2\n\nclass CustomFoo2(YamlObject2):\n    yaml_tag = '!foo'\n\n    def __init__(self, a, b):\n        \"\"\" Constructor \"\"\"\n        self.a = a\n        self.b = b\n        self.irrelevant = 37\n\n    def __repr__(self):\n        \"\"\" String representation for prints \"\"\"\n        return f\"{type(self).__name__} - {dict(a=self.a, b=self.b, irrelevant=self.irrelevant)}\"\n\n    def __to_yaml_dict__(self):\n        # Do not dump 'irrelevant'\n        return {'a': self.a, 'b': self.b}\n\n    @classmethod\n    def __from_yaml_dict__(cls, dct, yaml_tag):\n        # Accept a default value for b\n        return cls(dct['a'], dct.get('b', \"default\"))\n\n# instantiate\nf = CustomFoo2(1, 'hello')\n\n# dump to yaml\no = yaml.dump(f)\nprint(o)\n\nprint(yaml.safe_load(o))"
      ]
    },
    {
      "cell_type": "markdown",
      "metadata": {},
      "source": [
        "4. Support for sequences and scalars\n------------------------------------\n\nObjects can also be loaded from YAML sequences:\n\n"
      ]
    },
    {
      "cell_type": "code",
      "execution_count": null,
      "metadata": {
        "collapsed": false
      },
      "outputs": [],
      "source": [
        "yaml.safe_load(\"\"\"\n!yamlable/com.yamlable.example.Foo\n- 0\n- hey\n\"\"\")"
      ]
    },
    {
      "cell_type": "markdown",
      "metadata": {},
      "source": [
        "The default implementation of `__from_yaml_list__` (that you may wish to override in your subclass), is to call\nthe constructor with the sequence contents as positional arguments.\n\nThe same also works for scalars:\n\n"
      ]
    },
    {
      "cell_type": "code",
      "execution_count": null,
      "metadata": {
        "collapsed": false
      },
      "outputs": [],
      "source": [
        "yaml.safe_load(\"\"\"\n!yamlable/com.yamlable.example.Foo 0\n\"\"\")"
      ]
    },
    {
      "cell_type": "markdown",
      "metadata": {},
      "source": [
        "The default implementation of `__from_yaml_scalar__` (that you may wish to override in your subclass), is to call\nthe constructor with the scalar as first positional argument.\n\n!!! warning \"Scalars are not resolved\"\n    As can be seen in the above example, scalars are not auto-resolved when constructing an object from a scalar. So an\n    integer `0` is actually received as a string `\"0\"` by `from_yaml_scalar`.\n\n"
      ]
    }
  ],
  "metadata": {
    "kernelspec": {
      "display_name": "Python 3",
      "language": "python",
      "name": "python3"
    },
    "language_info": {
      "codemirror_mode": {
        "name": "ipython",
        "version": 3
      },
      "file_extension": ".py",
      "mimetype": "text/x-python",
      "name": "python",
      "nbconvert_exporter": "python",
      "pygments_lexer": "ipython3",
      "version": "3.7.13"
    }
  },
  "nbformat": 4,
  "nbformat_minor": 0
}