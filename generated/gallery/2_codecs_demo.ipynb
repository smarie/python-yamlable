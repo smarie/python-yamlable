{
  "cells": [
    {
      "cell_type": "code",
      "execution_count": null,
      "metadata": {
        "collapsed": false
      },
      "outputs": [],
      "source": [
        "%matplotlib inline"
      ]
    },
    {
      "cell_type": "markdown",
      "metadata": {},
      "source": [
        "\nWriting Codecs\n==============\n\nHandle Yaml-ability for several classes at once, without modifying them.\n\nWhat if you can not modify the class and still would like to make it yaml-able ? For such a (frequent) situation\n`yamlable` provides another possibility: writing so-called \"codecs\".  A codec is a subclass of `YamlCodec` that will\nhandle several classes at once, typically classes that you cannot modify.\n\n\n1. Writing a codec class\n------------------------\n\nSometimes you do not have the possibility to change the classes of the objects that you wish to encode/decode.\nIn this case the solution is to write an independent codec, inheriting from `YamlCodec`. Once again this feature\nleverages the `multi_constructor` and `multi_representer` concepts available in the `PyYaml` internals, but with\n`YamlCodec` it becomes a bit easier to do.\n\nLet's assume that the following two classes are given and can not be modified:\n"
      ]
    },
    {
      "cell_type": "code",
      "execution_count": null,
      "metadata": {
        "collapsed": false
      },
      "outputs": [],
      "source": [
        "class Foo:\n    def __init__(self, a, b):\n        self.a = a\n        self.b = b\n\n    def __eq__(self, other):\n        return vars(self) == vars(other)\n\n    def __repr__(self):\n        return f\"{type(self).__name__} - {vars(self)}\"\n\nclass Bar:\n    def __init__(self, c):\n        self.c = c\n\n    def __eq__(self, other):\n        return vars(self) == vars(other)\n\n    def __repr__(self):\n        return f\"{type(self).__name__} - {vars(self)}\""
      ]
    },
    {
      "cell_type": "markdown",
      "metadata": {},
      "source": [
        "Writing a codec is quite simple:\n\n - first inherit from `YamlCodec` and fill `get_yaml_prefix` so that it returns the common prefix that all yaml\n   objects encoded/decoded by this codec will use\n - then fill the checkers:\n    - `get_known_types` to return all object types that can be encoded by this codec\n    - `is_yaml_tag_supported` to return `True` if a yaml tag (suffix) is supported by this codec for decoding.\n - finally fill the encoder/decoder:\n    - `from_yaml_dict` to decode. As opposed to the [single class example](), this method also receives the tag so\n      as to load the right object type.\n    - `to_yaml_dict` to encode. As opposed to the [single class example](), this method should return a tuple with\n      (yaml_tag, dict) so that different objects can be dumped as different yaml tags.\n\nThe example below shows how it can be done:\n\n"
      ]
    },
    {
      "cell_type": "code",
      "execution_count": null,
      "metadata": {
        "collapsed": false
      },
      "outputs": [],
      "source": [
        "from yamlable import YamlCodec\nfrom typing import Type, Any, Iterable, Tuple\n\n\n# the yaml tag suffixes for the two classes\nfoo_yaml = \"yaml.tests.Foo\"\nbar_yaml = \"yaml.tests.Bar\"\n\n# 2-way mappings between the types and the yaml tags\ntypes_to_yaml_tags = {Foo: foo_yaml,\n                      Bar: bar_yaml}\nyaml_tags_to_types = {foo_yaml: Foo,\n                      bar_yaml: Bar}\n\n\nclass MyCodec(YamlCodec):\n    @classmethod\n    def get_yaml_prefix(cls):\n        return \"!mycodec/\"  # This is our root yaml tag\n\n    # ----\n\n    @classmethod\n    def get_known_types(cls) -> Iterable[Type[Any]]:\n        # return the list of types that we know how to encode\n        return types_to_yaml_tags.keys()\n\n    @classmethod\n    def is_yaml_tag_supported(cls, yaml_tag_suffix: str) -> bool:\n        # return True if the given yaml tag suffix is supported\n        return yaml_tag_suffix in yaml_tags_to_types.keys()\n\n    # ----\n\n    @classmethod\n    def from_yaml_dict(cls, yaml_tag_suffix: str, dct, **kwargs):\n        # Create an object corresponding to the given tag, from the decoded dict\n        typ = yaml_tags_to_types[yaml_tag_suffix]\n        return typ(**dct)\n\n    @classmethod\n    def to_yaml_dict(cls, obj) -> Tuple[str, Any]:\n        # Encode the given object and also return the tag that it should have\n        return types_to_yaml_tags[type(obj)], vars(obj)"
      ]
    },
    {
      "cell_type": "markdown",
      "metadata": {},
      "source": [
        "2. Registering a codec\n----------------------\n\nWhen you codec has been defined, it needs to be registered before being usable. You can specify with which `PyYaml`\nLoaders/Dumpers it should be registered, or use the default (all):\n\n"
      ]
    },
    {
      "cell_type": "code",
      "execution_count": null,
      "metadata": {
        "collapsed": false
      },
      "outputs": [],
      "source": [
        "# register the codec\nMyCodec.register_with_pyyaml()"
      ]
    },
    {
      "cell_type": "markdown",
      "metadata": {},
      "source": [
        "3. Using a codec\n----------------\n\nFinally let's test that the codec works:\n\n"
      ]
    },
    {
      "cell_type": "code",
      "execution_count": null,
      "metadata": {
        "collapsed": false
      },
      "outputs": [],
      "source": [
        "from yaml import dump, safe_load\n\n# instantiate\nf = Foo(1, 'hello')\nprint(dump(f))\n\nb = Bar('what?')\nprint(dump(b))"
      ]
    },
    {
      "cell_type": "code",
      "execution_count": null,
      "metadata": {
        "collapsed": false
      },
      "outputs": [],
      "source": [
        "# load\nfy = \"!mycodec/yaml.tests.Foo {a: 1, b: hello}\\n\"\nprint(safe_load(fy))\n\nby = \"!mycodec/yaml.tests.Bar {c: 'what?'}\\n\"\nprint(safe_load(by))"
      ]
    },
    {
      "cell_type": "markdown",
      "metadata": {},
      "source": [
        "4. Sequences and scalars\n------------------------\n\nObjects can be loaded from sequences and scalars, in addition to dictionaries. To support this possibility, you\nsimply need to fill the class methods:\n\n - `from_yaml_list` for sequences\n - `from_yaml_scalar` for scalars\n\n"
      ]
    },
    {
      "cell_type": "code",
      "execution_count": null,
      "metadata": {
        "collapsed": false
      },
      "outputs": [],
      "source": [
        "class MyCodec2(MyCodec):\n    @classmethod\n    def from_yaml_list(cls, yaml_tag_suffix, seq, **kwargs):\n        typ = yaml_tags_to_types[yaml_tag_suffix]\n        return typ(*seq)\n\n    @classmethod\n    def from_yaml_scalar(cls, yaml_tag_suffix, scalar, **kwargs):\n        typ = yaml_tags_to_types[yaml_tag_suffix]\n        return typ(scalar)\n\n\n# register the codec\nMyCodec2.register_with_pyyaml()"
      ]
    },
    {
      "cell_type": "markdown",
      "metadata": {},
      "source": [
        "Then loading from sequence works\n\n"
      ]
    },
    {
      "cell_type": "code",
      "execution_count": null,
      "metadata": {
        "collapsed": false
      },
      "outputs": [],
      "source": [
        "by_seq = \"\"\"!mycodec/yaml.tests.Bar\n- what?\n\"\"\"\nsafe_load(by_seq)"
      ]
    },
    {
      "cell_type": "markdown",
      "metadata": {},
      "source": [
        "As well as scalar\n\n"
      ]
    },
    {
      "cell_type": "code",
      "execution_count": null,
      "metadata": {
        "collapsed": false
      },
      "outputs": [],
      "source": [
        "by_scalar = \"!mycodec/yaml.tests.Bar what?\"\nsafe_load(by_scalar)"
      ]
    }
  ],
  "metadata": {
    "kernelspec": {
      "display_name": "Python 3",
      "language": "python",
      "name": "python3"
    },
    "language_info": {
      "codemirror_mode": {
        "name": "ipython",
        "version": 3
      },
      "file_extension": ".py",
      "mimetype": "text/x-python",
      "name": "python",
      "nbconvert_exporter": "python",
      "pygments_lexer": "ipython3",
      "version": "3.7.13"
    }
  },
  "nbformat": 4,
  "nbformat_minor": 0
}